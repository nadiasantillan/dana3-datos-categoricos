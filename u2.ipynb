{
 "cells": [
  {
   "cell_type": "markdown",
   "id": "9ce3fef2",
   "metadata": {},
   "source": [
    "# Distribuciones Discretas de Probabilidad"
   ]
  },
  {
   "cell_type": "code",
   "execution_count": 11,
   "id": "6545a0ef",
   "metadata": {},
   "outputs": [],
   "source": [
    "from scipy.stats import binom\n",
    "import numpy as np\n",
    "import matplotlib.pyplot as plt"
   ]
  },
  {
   "cell_type": "markdown",
   "id": "dcd86a31",
   "metadata": {},
   "source": [
    "<style type=\"text/css\">\n",
    "    ol { list-style-type: lower-alpha; }\n",
    "</style>\n",
    "\n",
    "1 - Como se sabe, la repuesta a una pregunta de “verdadero” o “falso” es correcta o incorrecta.\n",
    "Considérese que un examen está formado por cuatro preguntas con cinco respuestas posibles\n",
    "de las cuales sólo una es verdadera. La probabilidad que el estudiante “adivine” la repuesta\n",
    "correcta a la primera pregunta es 0,2. De manera semejante, la probabilidad de “adivinar” en\n",
    "forma correcta cada una de las preguntas restantes es 0,2. Si un estudiante no sabe nada sobre\n",
    "el tema, cuál es la probabilidad de:\n",
    "\n",
    "1. No obtener ninguna de las cuatro respuestas en forma correcta.\n",
    "1. Si dicho examen se aprueba con, por lo menos, la mitad de las preguntas bien contestadas. ¿Cuál es la probabilidad que dicho alumno apruebe con lo justo?\n",
    "1. Obtener exactamente tres respuestas correctas.\n",
    "1. Obtener todas las respuestas correctas."
   ]
  },
  {
   "cell_type": "markdown",
   "id": "62c8f9f7",
   "metadata": {},
   "source": [
    "### Solución\n",
    "La distribución de probabilidad de adivinar las respuestas es $Binomial(X, n=4, p=0.2)$\n",
    "\n",
    "La densidad de probabilidad está dada por \n",
    "$$P(X = x) = \\binom{5}{x}0.2^x(1-0.2)^{4-x}$$"
   ]
  },
  {
   "cell_type": "code",
   "execution_count": 5,
   "id": "4d70621b",
   "metadata": {},
   "outputs": [],
   "source": [
    "n = 4\n",
    "p = 0.2"
   ]
  },
  {
   "cell_type": "code",
   "execution_count": 16,
   "id": "8316c102",
   "metadata": {},
   "outputs": [
    {
     "data": {
      "text/plain": [
       "<matplotlib.collections.LineCollection at 0x70ef90192050>"
      ]
     },
     "execution_count": 16,
     "metadata": {},
     "output_type": "execute_result"
    },
    {
     "data": {
      "image/png": "[encoded data removed]",
      "text/plain": [
       "<Figure size 640x480 with 1 Axes>"
      ]
     },
     "metadata": {},
     "output_type": "display_data"
    }
   ],
   "source": [
    "fig, ax = plt.subplots(1, 1)\n",
    "x = np.arange(0,n+1)\n",
    "\n",
    "ax.plot(x, binom.pmf(x, n, p), 'bo', ms=8, label='binom pmf')\n",
    "\n",
    "ax.vlines(x, 0, binom.pmf(x, n, p), colors='b', lw=5, alpha=0.5)\n"
   ]
  },
  {
   "cell_type": "markdown",
   "id": "25d701e3",
   "metadata": {},
   "source": [
    "a. No obtener ninguna de las cuatro respuestas en forma correcta."
   ]
  },
  {
   "cell_type": "code",
   "execution_count": 6,
   "id": "19e0991c",
   "metadata": {},
   "outputs": [
    {
     "data": {
      "text/plain": [
       "np.float64(0.4095999999999999)"
      ]
     },
     "execution_count": 6,
     "metadata": {},
     "output_type": "execute_result"
    }
   ],
   "source": [
    "binom.pmf(0,n,p)"
   ]
  },
  {
   "cell_type": "markdown",
   "id": "fc669670",
   "metadata": {},
   "source": [
    "b. Si dicho examen se aprueba con, por lo menos, la mitad de las preguntas bien contestadas. ¿Cuál es la probabilidad que dicho alumno apruebe con lo justo?"
   ]
  },
  {
   "cell_type": "code",
   "execution_count": 27,
   "id": "0988a835",
   "metadata": {},
   "outputs": [
    {
     "data": {
      "text/plain": [
       "np.float64(0.18080000000000007)"
      ]
     },
     "execution_count": 27,
     "metadata": {},
     "output_type": "execute_result"
    }
   ],
   "source": [
    "1-binom.cdf(1, n, p)\n"
   ]
  },
  {
   "cell_type": "markdown",
   "id": "3d0ced2d",
   "metadata": {},
   "source": [
    "c. Obtener exactamente tres respuestas correctas."
   ]
  },
  {
   "cell_type": "code",
   "execution_count": 28,
   "id": "bdff8ead",
   "metadata": {},
   "outputs": [
    {
     "data": {
      "text/plain": [
       "np.float64(0.0256)"
      ]
     },
     "execution_count": 28,
     "metadata": {},
     "output_type": "execute_result"
    }
   ],
   "source": [
    "binom.pmf(3,n,p)"
   ]
  },
  {
   "cell_type": "markdown",
   "id": "58da1808",
   "metadata": {},
   "source": [
    "d. Obtener todas las respuestas correctas."
   ]
  },
  {
   "cell_type": "code",
   "execution_count": 29,
   "id": "79cc865e",
   "metadata": {},
   "outputs": [
    {
     "data": {
      "text/plain": [
       "np.float64(0.0016000000000000003)"
      ]
     },
     "execution_count": 29,
     "metadata": {},
     "output_type": "execute_result"
    }
   ],
   "source": [
    "binom.pmf(4,n,p)"
   ]
  }
 ],
 "metadata": {
  "kernelspec": {
   "display_name": ".venv",
   "language": "python",
   "name": "python3"
  },
  "language_info": {
   "codemirror_mode": {
    "name": "ipython",
    "version": 3
   },
   "file_extension": ".py",
   "mimetype": "text/x-python",
   "name": "python",
   "nbconvert_exporter": "python",
   "pygments_lexer": "ipython3",
   "version": "3.10.12"
  }
 },
 "nbformat": 4,
 "nbformat_minor": 5
}
