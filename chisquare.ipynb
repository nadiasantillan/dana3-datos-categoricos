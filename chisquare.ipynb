{
 "cells": [
  {
   "cell_type": "code",
   "execution_count": 6,
   "metadata": {},
   "outputs": [],
   "source": [
    "def expected_frequencies(contingency_table: list[list[int]]) -> list[list[float]]:\n",
    "    column_totals = [sum(row[column] for row in contingency_table) for column in range(len(contingency_table[0]))]\n",
    "    row_totals = [sum(elem for elem in row) for row in contingency_table]\n",
    "\n",
    "    assert sum(column_totals) == sum(row_totals)\n",
    "\n",
    "    total = sum(column_totals)\n",
    "\n",
    "    return [[column_totals[j]*row_totals[i]/total for j, _ in enumerate(row)] for i, row in enumerate(contingency_table)]\n",
    "\n",
    "def test_value(contingency_table: list[list[int]]) -> float:\n",
    "    ef = expected_frequencies(contingency_table)\n",
    "    return sum(sum(pow(contingency_table[i][j]-ef[i][j], 2)/ef[i][j] for j, _ in enumerate(row)) for i, row in enumerate(contingency_table))\n",
    "\n",
    "def chi_squared_pvalue(contingency_table: list[list[int]]) -> float:\n",
    "    from scipy.stats import chi2\n",
    "    return chi2.sf(test_value(contingency_table), (len(contingency_table)-1)*(len(contingency_table[0])-1))"
   ]
  },
  {
   "cell_type": "code",
   "execution_count": 7,
   "metadata": {},
   "outputs": [
    {
     "name": "stdout",
     "output_type": "stream",
     "text": [
      "23.79341446197011\n",
      "2.7587641100577e-05\n",
      "0.08012820512820522\n",
      "0.7771237463572623\n",
      "4.096841022349745\n",
      "0.042963415994891826\n",
      "19.976090646400863\n"
     ]
    }
   ],
   "source": [
    "table =[\n",
    "    [15,24],\n",
    "    [15,21],\n",
    "    [13,43],\n",
    "    [22,6],\n",
    "]\n",
    "print(test_value(table))\n",
    "print(chi_squared_pvalue(table))\n",
    "\n",
    "print(test_value(table[:2]))\n",
    "print(chi_squared_pvalue(table[:2]))\n",
    "\n",
    "table_1 =[\n",
    "    [30,45],\n",
    "    [13,43],\n",
    "]\n",
    "\n",
    "print(test_value(table_1))\n",
    "print(chi_squared_pvalue(table_1))\n",
    "\n",
    "table_2 =[\n",
    "    [43,88],\n",
    "    [22,6],\n",
    "]\n",
    "print(test_value(table_2))\n"
   ]
  },
  {
   "cell_type": "code",
   "execution_count": 5,
   "metadata": {},
   "outputs": [
    {
     "data": {
      "text/plain": [
       "[(2.2051282051282053, 1.017471945510849, 4.779090394094893),\n",
       " (0.45348837209302323, 0.20924483898350474, 0.9828280813167023)]"
      ]
     },
     "execution_count": 5,
     "metadata": {},
     "output_type": "execute_result"
    }
   ],
   "source": [
    "from math import log, sqrt, exp\n",
    "from scipy.stats import norm\n",
    "\n",
    "def sem(*a: float) -> float:\n",
    "    return sqrt(sum(1/i for i in a))\n",
    "\n",
    "def odds_ratios(table, alpha=0.05):\n",
    "\n",
    "    z = norm.ppf(1-alpha/2)\n",
    "    # print(\"1-alpha/2\", 1-alpha/2)\n",
    "    # print(\"z\", z)\n",
    "    a = table[0][0]\n",
    "    b = table[1][0]\n",
    "    c = table[0][1]\n",
    "    d = table[1][1]\n",
    "\n",
    "    odds_ratio_1_2 = a*d/(c*b)\n",
    "    odds_ratio_2_1 = (c*b)/(a*d)\n",
    "\n",
    "\n",
    "    se = sem(a, b, c, d)\n",
    "    return[\n",
    "        (odds_ratio_1_2, exp(log(odds_ratio_1_2) -z*se), exp(log(odds_ratio_1_2) +z*se)),\n",
    "        (odds_ratio_2_1, exp(log(odds_ratio_2_1) -z*se), exp(log(odds_ratio_2_1) +z*se))]\n",
    "\n",
    "odds_ratios(table_1)\n"
   ]
  },
  {
   "cell_type": "code",
   "execution_count": null,
   "metadata": {},
   "outputs": [],
   "source": []
  }
 ],
 "metadata": {
  "kernelspec": {
   "display_name": ".venv",
   "language": "python",
   "name": "python3"
  },
  "language_info": {
   "codemirror_mode": {
    "name": "ipython",
    "version": 3
   },
   "file_extension": ".py",
   "mimetype": "text/x-python",
   "name": "python",
   "nbconvert_exporter": "python",
   "pygments_lexer": "ipython3",
   "version": "3.10.12"
  }
 },
 "nbformat": 4,
 "nbformat_minor": 2
}
