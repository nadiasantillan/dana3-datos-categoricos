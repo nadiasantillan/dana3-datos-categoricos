{
 "cells": [
  {
   "cell_type": "code",
   "execution_count": 1,
   "id": "3ea85397",
   "metadata": {},
   "outputs": [],
   "source": [
    "from scipy.stats import binom, poisson\n",
    "import numpy as np\n",
    "import matplotlib.pyplot as plt"
   ]
  },
  {
   "cell_type": "markdown",
   "id": "8acbc860",
   "metadata": {},
   "source": [
    "Si se sabe que el 0,2% de copas de vidrio que produce una maquina presentan alguna burbuja de aire visible al ojo humano y por lo cual debe considerarse material de segunda, cuál es la probabilidad que al tomar una muestra de 500 copas de vidrio (use 3 decimales):\n",
    "\n",
    "Tres copas deban ser consideradas material de segunda\n",
    "\t\n",
    "Cómo máximo una copa deba ser consideradas material de segunda\n",
    "\t\n",
    "Más de 1 copa deba ser considerada material de segunda"
   ]
  },
  {
   "cell_type": "code",
   "execution_count": 2,
   "id": "ce014bbf",
   "metadata": {},
   "outputs": [
    {
     "data": {
      "text/plain": [
       "np.float64(0.06125162981904531)"
      ]
     },
     "execution_count": 2,
     "metadata": {},
     "output_type": "execute_result"
    }
   ],
   "source": [
    "binom.pmf(3, 500, 0.002)"
   ]
  },
  {
   "cell_type": "code",
   "execution_count": 6,
   "id": "aa888995",
   "metadata": {},
   "outputs": [
    {
     "data": {
      "text/plain": [
       "np.float64(0.36824775035787466)"
      ]
     },
     "execution_count": 6,
     "metadata": {},
     "output_type": "execute_result"
    }
   ],
   "source": [
    "binom.cdf(1, 500, 0.002)\n",
    "\n",
    "poisson.cdf(1, 500*0.002)\n",
    "\n",
    "binom.pmf(1, 500, 0.002)"
   ]
  },
  {
   "cell_type": "code",
   "execution_count": 4,
   "id": "7d2af7c6",
   "metadata": {},
   "outputs": [
    {
     "data": {
      "text/plain": [
       "np.float64(0.26424099478496643)"
      ]
     },
     "execution_count": 4,
     "metadata": {},
     "output_type": "execute_result"
    }
   ],
   "source": [
    "1-binom.cdf(1, 500, 0.002)"
   ]
  },
  {
   "cell_type": "markdown",
   "id": "fa76697a",
   "metadata": {},
   "source": [
    "El 30% de un determinado pueblo ve un concurso que hay en televisión. Desde el concurso se llama por teléfono a 10 personas del pueblo elegidas al azar. Calcular la probabilidad de que, entre las 10 personas, estuvieran viendo el programa:\n",
    "\n",
    "Tres personas\n",
    "\n",
    "Alguna de las diez personas\n",
    "\t\n",
    "Más de ocho personas"
   ]
  },
  {
   "cell_type": "code",
   "execution_count": 7,
   "id": "560e6a18",
   "metadata": {},
   "outputs": [
    {
     "data": {
      "text/plain": [
       "np.float64(0.26682793199999977)"
      ]
     },
     "execution_count": 7,
     "metadata": {},
     "output_type": "execute_result"
    }
   ],
   "source": [
    "binom.pmf(3, 10, .3)"
   ]
  },
  {
   "cell_type": "code",
   "execution_count": 9,
   "id": "0a42b0c1",
   "metadata": {},
   "outputs": [
    {
     "data": {
      "text/plain": [
       "np.float64(0.9717524751)"
      ]
     },
     "execution_count": 9,
     "metadata": {},
     "output_type": "execute_result"
    }
   ],
   "source": [
    "1-binom.cdf(0, 10, .3)"
   ]
  },
  {
   "cell_type": "code",
   "execution_count": 10,
   "id": "20802d7e",
   "metadata": {},
   "outputs": [
    {
     "data": {
      "text/plain": [
       "np.float64(0.00014368590000002346)"
      ]
     },
     "execution_count": 10,
     "metadata": {},
     "output_type": "execute_result"
    }
   ],
   "source": [
    "1-binom.cdf(8, 10, .3)"
   ]
  },
  {
   "cell_type": "markdown",
   "id": "7182a7e7",
   "metadata": {},
   "source": [
    "Un examen de Estadística consta de quince preguntas que presentan cinco posibles respuestas cada una, siendo una sola de estas respuestas la correcta. Una persona, sin conocimientos de Estadística, responde de manera aleatoria a las quince preguntas:\n",
    "\n",
    "Halle la probabilidad de que dicha persona conteste mal todas las preguntas\n",
    "\n",
    "Obtenga la probabilidad que responda bien, como máximo, cuatro preguntas\n",
    "\n",
    "¿Cuál es la probabilidad que acierte con la respuesta válida al contestar una pregunta?\n",
    "\n",
    "Si la persona quiere aprobar el examen debe contestar, como mínimo, el 40% de las preguntas de manera correcta. ¿Cuál es la probabilidad de que dicha persona apruebe?"
   ]
  },
  {
   "cell_type": "code",
   "execution_count": 12,
   "id": "eca0805f",
   "metadata": {},
   "outputs": [
    {
     "data": {
      "text/plain": [
       "np.float64(0.03518437208883203)"
      ]
     },
     "execution_count": 12,
     "metadata": {},
     "output_type": "execute_result"
    }
   ],
   "source": [
    "binom.pmf(15, 15, .8)"
   ]
  },
  {
   "cell_type": "code",
   "execution_count": 19,
   "id": "8da9a8cb",
   "metadata": {},
   "outputs": [
    {
     "data": {
      "text/plain": [
       "np.float64(0.9389485703823359)"
      ]
     },
     "execution_count": 19,
     "metadata": {},
     "output_type": "execute_result"
    }
   ],
   "source": [
    "binom.cdf(5, 15, 0.2)\n",
    "# binom.pmf(0, 15, .2)"
   ]
  },
  {
   "cell_type": "code",
   "execution_count": 20,
   "id": "cfc80616",
   "metadata": {},
   "outputs": [
    {
     "data": {
      "text/plain": [
       "6.0"
      ]
     },
     "execution_count": 20,
     "metadata": {},
     "output_type": "execute_result"
    }
   ],
   "source": [
    "0.4*15"
   ]
  },
  {
   "cell_type": "code",
   "execution_count": 22,
   "id": "4b5f8da9",
   "metadata": {},
   "outputs": [
    {
     "data": {
      "text/plain": [
       "np.float64(0.06105142961766408)"
      ]
     },
     "execution_count": 22,
     "metadata": {},
     "output_type": "execute_result"
    }
   ],
   "source": [
    "1-binom.cdf(5,15, 0.2)"
   ]
  },
  {
   "cell_type": "code",
   "execution_count": null,
   "id": "fe401f3e",
   "metadata": {},
   "outputs": [],
   "source": [
    "Supongamos que el número de imperfecciones en un alambre delgado de cobre sigue una distribución Poisson con una media de 2,2 imperfecciones\n",
    "por milímetro (mm). Determine la probabilidad de:\n",
    "\n",
    "Tres imperfecciones en 2,5 mm de alambre\n",
    "\n",
    "Al menos una imperfección en tres mm de alambre\n",
    "\n",
    "Nueve imperfecciones en 2 mm de alambre\n",
    "\n",
    "Dos imperfecciones en un mm de alambre"
   ]
  },
  {
   "cell_type": "code",
   "execution_count": 23,
   "id": "72b0aaec",
   "metadata": {},
   "outputs": [
    {
     "data": {
      "text/plain": [
       "np.float64(0.1133227663457432)"
      ]
     },
     "execution_count": 23,
     "metadata": {},
     "output_type": "execute_result"
    }
   ],
   "source": [
    "poisson.pmf(3, 2.2*2.5)"
   ]
  },
  {
   "cell_type": "code",
   "execution_count": null,
   "id": "1f257db0",
   "metadata": {},
   "outputs": [
    {
     "data": {
      "text/plain": [
       "np.float64(0.989661202914636)"
      ]
     },
     "execution_count": 27,
     "metadata": {},
     "output_type": "execute_result"
    }
   ],
   "source": [
    "# Revisar\n",
    "1-poisson.cdf(1, 2.2*3)"
   ]
  },
  {
   "cell_type": "code",
   "execution_count": 25,
   "id": "826e8fc4",
   "metadata": {},
   "outputs": [
    {
     "data": {
      "text/plain": [
       "np.float64(0.020912951733818658)"
      ]
     },
     "execution_count": 25,
     "metadata": {},
     "output_type": "execute_result"
    }
   ],
   "source": [
    "poisson.pmf(9, 2.2*2)"
   ]
  },
  {
   "cell_type": "code",
   "execution_count": 26,
   "id": "d8823e5a",
   "metadata": {},
   "outputs": [
    {
     "data": {
      "text/plain": [
       "np.float64(0.26814364323684803)"
      ]
     },
     "execution_count": 26,
     "metadata": {},
     "output_type": "execute_result"
    }
   ],
   "source": [
    "poisson.pmf(2, 2.2*1)"
   ]
  }
 ],
 "metadata": {
  "kernelspec": {
   "display_name": ".venv",
   "language": "python",
   "name": "python3"
  },
  "language_info": {
   "codemirror_mode": {
    "name": "ipython",
    "version": 3
   },
   "file_extension": ".py",
   "mimetype": "text/x-python",
   "name": "python",
   "nbconvert_exporter": "python",
   "pygments_lexer": "ipython3",
   "version": "3.10.12"
  }
 },
 "nbformat": 4,
 "nbformat_minor": 5
}
